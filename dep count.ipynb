{
 "cells": [
  {
   "cell_type": "code",
   "execution_count": 41,
   "metadata": {
    "collapsed": false
   },
   "outputs": [
    {
     "name": "stdout",
     "output_type": "stream",
     "text": [
      "read train data\n"
     ]
    }
   ],
   "source": [
    "import pandas as pd\n",
    "import numpy as np\n",
    "import copy\n",
    "\n",
    "__author__ = 'WiBeer'\n",
    "\n",
    "\n",
    "def add_prefix(dataset, prefix):\n",
    "    col_names = np.array(dataset.columns.values).astype('str')\n",
    "    for i in range(col_names.shape[0]):\n",
    "        col_names[i] = prefix + col_names[i]\n",
    "    dataset.columns = col_names\n",
    "    return dataset\n",
    "\n",
    "\n",
    "def remove_sparse(dataset):\n",
    "    col_names = np.array(dataset.columns.values).astype('str')\n",
    "    dead_col = []\n",
    "    for i in range(col_names.shape[0]):\n",
    "        if not np.sum(dataset[col_names[i]]):\n",
    "            dead_col.append(i)\n",
    "    dataset = dataset.drop(dataset.columns[dead_col], 1)\n",
    "    return dataset\n",
    "\n",
    "\"\"\"\n",
    "preprocessing data\n",
    "\"\"\"\n",
    "# preprocess test data\n",
    "print 'read train data'\n",
    "trainset = pd.DataFrame.from_csv('train.csv', index_col=1)\n",
    "trainset = trainset.fillna('-999')\n",
    "trainset[['Upc', 'FinelineNumber']] = trainset[['Upc', 'FinelineNumber']].astype(str)\n",
    "n = trainset.shape[0]\n",
    "\n",
    "train_result = trainset['TripType']\n",
    "train_result = train_result.groupby(by=train_result.index, sort=False).mean()\n",
    "\n",
    "dep_count_b = train_result.copy(deep=True)\n",
    "dep_count_r = train_result.copy(deep=True)\n",
    "\n",
    "fln_count_b = train_result.copy(deep=True)\n",
    "fln_count_r = train_result.copy(deep=True)\n",
    "\n",
    "upc_count_b = train_result.copy(deep=True)\n",
    "upc_count_r = train_result.copy(deep=True)\n",
    "\n",
    "dep_count_b.columns = ['dep_num_B']\n",
    "dep_count_r.columns = ['dep_num_R']\n",
    "\n",
    "fln_count_b.columns = ['fln_num_B']\n",
    "fln_count_r.columns = ['fln_num_R']\n",
    "\n",
    "upc_count_b.columns = ['upc_num_B']\n",
    "upc_count_r.columns = ['upc_num_R']\n",
    "indexes = list(train_result.index.values)"
   ]
  },
  {
   "cell_type": "code",
   "execution_count": null,
   "metadata": {
    "collapsed": false
   },
   "outputs": [],
   "source": [
    "# Department counter\n",
    "for i in range(len(indexes)):\n",
    "    single_vis = trainset.loc[indexes[i]]\n",
    "    bought = np.array(single_vis['ScanCount'] > 0)\n",
    "    returned = np.array(single_vis['ScanCount'] < 0)\n",
    "    single_vis_bought = single_vis.iloc[bought]\n",
    "    single_vis_returned = single_vis.iloc[returned]\n",
    "    \n",
    "    if single_vis_bought.shape[0] == 0:\n",
    "        dep_count_b.loc[indexes[i]] = 0\n",
    "    else:\n",
    "        if len(single_vis_bought.shape) == 1:\n",
    "            dep_count_b.loc[indexes[i]] = 1\n",
    "        else:\n",
    "            dep_count_b.loc[indexes[i]] = len(list(single_vis_bought['DepartmentDescription'].value_counts()))\n",
    "    \n",
    "    if single_vis_returned.shape[0] == 0:\n",
    "        dep_count_r.loc[indexes[i]] = 0\n",
    "    else:\n",
    "        if len(single_vis_returned.shape) == 1:\n",
    "            dep_count_r.loc[indexes[i]] = 1\n",
    "        else:\n",
    "            dep_count_r.loc[indexes[i]] = len(list(single_vis_returned['DepartmentDescription'].value_counts()))"
   ]
  },
  {
   "cell_type": "code",
   "execution_count": null,
   "metadata": {
    "collapsed": true
   },
   "outputs": [],
   "source": [
    "# fln counter\n",
    "for i in range(len(indexes)):\n",
    "    single_vis = trainset.loc[indexes[i]]\n",
    "    bought = np.array(single_vis['ScanCount'] > 0)\n",
    "    returned = np.array(single_vis['ScanCount'] < 0)\n",
    "    single_vis_bought = single_vis.iloc[bought]\n",
    "    single_vis_returned = single_vis.iloc[returned]\n",
    "    \n",
    "    if single_vis_bought.shape[0] == 0:\n",
    "        fln_count_b.loc[indexes[i]] = 0\n",
    "    else:\n",
    "        if len(single_vis_bought.shape) == 1:\n",
    "            fln_count_b.loc[indexes[i]] = 1\n",
    "        else:\n",
    "            fln_count_b.loc[indexes[i]] = len(list(single_vis_bought['FinelineNumber'].value_counts()))\n",
    "    \n",
    "    if single_vis_returned.shape[0] == 0:\n",
    "        fln_count_r.loc[indexes[i]] = 0\n",
    "    else:\n",
    "        if len(single_vis_returned.shape) == 1:\n",
    "            fln_count_r.loc[indexes[i]] = 1\n",
    "        else:\n",
    "            fln_count_r.loc[indexes[i]] = len(list(single_vis_returned['FinelineNumber'].value_counts()))"
   ]
  },
  {
   "cell_type": "code",
   "execution_count": null,
   "metadata": {
    "collapsed": true
   },
   "outputs": [],
   "source": [
    "# upc counter\n",
    "for i in range(len(indexes)):\n",
    "    single_vis = trainset.loc[indexes[i]]\n",
    "    bought = np.array(single_vis['ScanCount'] > 0)\n",
    "    returned = np.array(single_vis['ScanCount'] < 0)\n",
    "    single_vis_bought = single_vis.iloc[bought]\n",
    "    single_vis_returned = single_vis.iloc[returned]\n",
    "    \n",
    "    if single_vis_bought.shape[0] == 0:\n",
    "        upc_count_b.loc[indexes[i]] = 0\n",
    "    else:\n",
    "        if len(single_vis_bought.shape) == 1:\n",
    "            upc_count_b.loc[indexes[i]] = 1\n",
    "        else:\n",
    "            upc_count_b.loc[indexes[i]] = len(list(single_vis_bought['Upc'].value_counts()))\n",
    "    \n",
    "    if single_vis_returned.shape[0] == 0:\n",
    "        upc_count_r.loc[indexes[i]] = 0\n",
    "    else:\n",
    "        if len(single_vis_returned.shape) == 1:\n",
    "            upc_count_r.loc[indexes[i]] = 1\n",
    "        else:\n",
    "            upc_count_r.loc[indexes[i]] = len(list(single_vis_returned['Upc'].value_counts()))"
   ]
  },
  {
   "cell_type": "code",
   "execution_count": null,
   "metadata": {
    "collapsed": true
   },
   "outputs": [],
   "source": [
    "print dep_count_b\n",
    "print dep_count_r\n",
    "print fln_count_b\n",
    "print fln_count_r\n",
    "print upc_count_b\n",
    "print upc_count_r"
   ]
  }
 ],
 "metadata": {
  "kernelspec": {
   "display_name": "Python 2",
   "language": "python",
   "name": "python2"
  },
  "language_info": {
   "codemirror_mode": {
    "name": "ipython",
    "version": 2
   },
   "file_extension": ".py",
   "mimetype": "text/x-python",
   "name": "python",
   "nbconvert_exporter": "python",
   "pygments_lexer": "ipython2",
   "version": "2.7.9"
  }
 },
 "nbformat": 4,
 "nbformat_minor": 0
}
