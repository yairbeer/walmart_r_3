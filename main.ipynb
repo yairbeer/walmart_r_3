{
 "cells": [
  {
   "cell_type": "code",
   "execution_count": 2,
   "metadata": {
    "collapsed": false
   },
   "outputs": [],
   "source": [
    "import pandas as pd\n",
    "import numpy as np\n",
    "from sklearn.decomposition import PCA\n",
    "from sklearn.linear_model import SGDClassifier\n",
    "from sklearn.ensemble import RandomForestClassifier\n",
    "from sklearn.metrics import log_loss\n",
    "from sklearn.preprocessing import StandardScaler\n",
    "from sklearn.cross_validation import KFold"
   ]
  },
  {
   "cell_type": "code",
   "execution_count": 3,
   "metadata": {
    "collapsed": false
   },
   "outputs": [],
   "source": [
    "# preprocess test data\n",
    "trainset = pd.DataFrame.from_csv('train.csv', index_col=1)\n",
    "trainset = trainset.fillna('formerlyNA')\n",
    "trainset[['Upc', 'FinelineNumber']] = trainset[['Upc', 'FinelineNumber']].astype(str)\n",
    "n = trainset.shape[0]"
   ]
  },
  {
   "cell_type": "code",
   "execution_count": 4,
   "metadata": {
    "collapsed": false
   },
   "outputs": [],
   "source": [
    "train_result = trainset['TripType']\n",
    "train_result = train_result.groupby(by=train_result.index, sort=False).mean()"
   ]
  },
  {
   "cell_type": "code",
   "execution_count": 5,
   "metadata": {
    "collapsed": false
   },
   "outputs": [],
   "source": [
    "train_data_not_count = pd.get_dummies(trainset['Weekday'])\n",
    "train_data_not_count = train_data_not_count.groupby(by=train_data_not_count.index, sort=False).mean()"
   ]
  },
  {
   "cell_type": "code",
   "execution_count": 6,
   "metadata": {
    "collapsed": false
   },
   "outputs": [],
   "source": [
    "train_data_count_dep = pd.get_dummies(trainset['DepartmentDescription'])\n",
    "tmp_index = train_data_count_dep.index\n",
    "tmp_columns = list(train_data_count_dep.columns.values)\n",
    "tmp_table = np.array(train_data_count_dep) * np.array(trainset['ScanCount']).reshape((n, 1))\n",
    "train_data_count_dep = pd.DataFrame(tmp_table)\n",
    "train_data_count_dep.columns = tmp_columns\n",
    "train_data_count_dep.index = tmp_index\n",
    "train_data_count_dep = train_data_count_dep.groupby(by=train_data_count_dep.index, sort=False).sum()\n",
    "\n",
    "# need to separate between returned and bought goods"
   ]
  },
  {
   "cell_type": "code",
   "execution_count": 7,
   "metadata": {
    "collapsed": false
   },
   "outputs": [],
   "source": [
    "train_data_tot_items = trainset['ScanCount'].groupby(by=trainset.index, sort=False).sum()"
   ]
  },
  {
   "cell_type": "code",
   "execution_count": 8,
   "metadata": {
    "collapsed": false
   },
   "outputs": [],
   "source": [
    "# fineline_density = trainset['FinelineNumber'].value_counts()\n",
    "# sparsity = n * 0.003\n",
    "# print np.sum(fineline_density > sparsity)"
   ]
  },
  {
   "cell_type": "code",
   "execution_count": 9,
   "metadata": {
    "collapsed": false
   },
   "outputs": [],
   "source": [
    "train = pd.concat([train_data_not_count, train_data_count_dep, train_data_tot_items], axis=1)"
   ]
  },
  {
   "cell_type": "code",
   "execution_count": 10,
   "metadata": {
    "collapsed": false
   },
   "outputs": [],
   "source": [
    "# preprocess test data\n",
    "testset = pd.DataFrame.from_csv('test.csv', index_col=0)\n",
    "test_data_not_count = pd.get_dummies(testset['Weekday'])\n",
    "test_data_not_count = test_data_not_count.groupby(by=test_data_not_count.index, sort=False).mean()\n",
    "n_test = testset.shape[0]"
   ]
  },
  {
   "cell_type": "code",
   "execution_count": 11,
   "metadata": {
    "collapsed": false
   },
   "outputs": [],
   "source": [
    "test_data_count_dep = pd.get_dummies(testset['DepartmentDescription'])\n",
    "tmp_index = test_data_count_dep.index\n",
    "tmp_columns = list(test_data_count_dep.columns.values)\n",
    "tmp_table = np.array(test_data_count_dep) * np.array(testset['ScanCount']).reshape((n_test, 1))\n",
    "test_data_count_dep = pd.DataFrame(tmp_table)\n",
    "test_data_count_dep.columns = tmp_columns\n",
    "test_data_count_dep.index = tmp_index\n",
    "test_data_count_dep = test_data_count_dep.groupby(by=test_data_count_dep.index, sort=False).sum()"
   ]
  },
  {
   "cell_type": "code",
   "execution_count": 12,
   "metadata": {
    "collapsed": true
   },
   "outputs": [],
   "source": [
    "test_data_tot_items = testset['ScanCount'].groupby(by=testset.index, sort=False).sum()"
   ]
  },
  {
   "cell_type": "code",
   "execution_count": 13,
   "metadata": {
    "collapsed": true
   },
   "outputs": [],
   "source": [
    "test = pd.concat([test_data_not_count, test_data_count_dep, test_data_tot_items], axis=1)"
   ]
  },
  {
   "cell_type": "code",
   "execution_count": 14,
   "metadata": {
    "collapsed": false
   },
   "outputs": [],
   "source": [
    "# Find common coloumns\n",
    "col_train = list(train.columns.values)\n",
    "col_test = list(test.columns.values)\n",
    "col_common = []\n",
    "# add only common columns for train and test\n",
    "for col in col_train:\n",
    "    if col in col_test:\n",
    "        col_common.append(col)\n",
    "train = train[col_common]\n",
    "test = test[col_common]"
   ]
  },
  {
   "cell_type": "code",
   "execution_count": 15,
   "metadata": {
    "collapsed": false
   },
   "outputs": [],
   "source": [
    "# Common preprocessing\n",
    "# Standardizing\n",
    "stding = StandardScaler()\n",
    "train = stding.fit_transform(train)\n",
    "test = stding.transform(test)"
   ]
  },
  {
   "cell_type": "code",
   "execution_count": 16,
   "metadata": {
    "collapsed": true
   },
   "outputs": [],
   "source": [
    "classifier = RandomForestClassifier(n_estimators=200)"
   ]
  },
  {
   "cell_type": "code",
   "execution_count": 17,
   "metadata": {
    "collapsed": false
   },
   "outputs": [],
   "source": [
    "# # CV n = 4\n",
    "# cv_n = 4\n",
    "# kf = KFold(train.shape[0], n_folds=cv_n, shuffle=True)\n",
    "\n",
    "# metric = []\n",
    "# for train_index, test_index in kf:\n",
    "#     X_train, X_test = train[train_index, :], train[test_index, :]\n",
    "#     y_train, y_test = train_result[train_index].ravel(), train_result[test_index].ravel()\n",
    "\n",
    "#     # train machine learning\n",
    "#     classifier.fit(X_train, y_train)\n",
    "\n",
    "#     # predict\n",
    "#     class_pred = classifier.predict_proba(X_test)\n",
    "\n",
    "#     # evaluate\n",
    "#     metric.append(log_loss(y_test, class_pred))\n",
    "# print 'The log loss is: ', np.mean(metric)\n",
    "\n"
   ]
  },
  {
   "cell_type": "code",
   "execution_count": 18,
   "metadata": {
    "collapsed": false
   },
   "outputs": [],
   "source": [
    "# predict testset\n",
    "classifier.fit(train, train_result)\n",
    "predicted_results = classifier.predict_proba(test)"
   ]
  },
  {
   "cell_type": "code",
   "execution_count": 19,
   "metadata": {
    "collapsed": false
   },
   "outputs": [
    {
     "data": {
      "text/plain": [
       "0.3211670336447216"
      ]
     },
     "execution_count": 19,
     "metadata": {},
     "output_type": "execute_result"
    }
   ],
   "source": [
    "predicted_results_self = classifier.predict_proba(train)\n",
    "log_loss(train_result ,predicted_results_self)"
   ]
  },
  {
   "cell_type": "code",
   "execution_count": 20,
   "metadata": {
    "collapsed": true
   },
   "outputs": [],
   "source": [
    "# # PCA\n",
    "# pcaing = PCA(n_components=2)\n",
    "# train_pca = pcaing.fit_transform(train)\n",
    "# test_pca = pcaing.transform(test)"
   ]
  },
  {
   "cell_type": "code",
   "execution_count": 21,
   "metadata": {
    "collapsed": false
   },
   "outputs": [],
   "source": [
    "submission_file = pd.DataFrame.from_csv(\"sample_submission.csv\")\n",
    "submission_file[list(submission_file.columns.values)] = predicted_results\n",
    "submission_file.to_csv(\"trysub_rf.csv\")"
   ]
  },
  {
   "cell_type": "code",
   "execution_count": null,
   "metadata": {
    "collapsed": true
   },
   "outputs": [],
   "source": []
  }
 ],
 "metadata": {
  "kernelspec": {
   "display_name": "Python 2",
   "language": "python",
   "name": "python2"
  },
  "language_info": {
   "codemirror_mode": {
    "name": "ipython",
    "version": 2
   },
   "file_extension": ".py",
   "mimetype": "text/x-python",
   "name": "python",
   "nbconvert_exporter": "python",
   "pygments_lexer": "ipython2",
   "version": "2.7.9"
  }
 },
 "nbformat": 4,
 "nbformat_minor": 0
}
